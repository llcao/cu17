{
 "cells": [
  {
   "cell_type": "code",
   "execution_count": 4,
   "metadata": {
    "collapsed": false
   },
   "outputs": [],
   "source": [
    "# run the following to use gpu\n",
    "#import os\n",
    "#os.environ[\"THEANO_FLAGS\"] = \"mode=FAST_RUN,device=gpu,floatX=float32\"\n",
    "\n",
    "import theano\n",
    "from theano import tensor as T\n",
    "\n",
    "x = T.dscalar('x')\n",
    "y = x ** 2\n",
    "gy = T.grad(y, x)"
   ]
  },
  {
   "cell_type": "code",
   "execution_count": 3,
   "metadata": {
    "collapsed": false
   },
   "outputs": [
    {
     "name": "stdout",
     "output_type": "stream",
     "text": [
      "before opt: 1.25\n",
      "after opt: 0.0\n"
     ]
    }
   ],
   "source": [
    "import scipy\n",
    "import numpy as np\n",
    "\n",
    "shared_w = theano.shared(np.array(np.array([3.0, -3.0]).astype(np.float64), dtype=np.float32))\n",
    "\n",
    "inputs_x = np.array([[2, 1], [0.3, 0.5]]).astype(np.float32)\n",
    "inputs_y = np.array([[1, 0]]).astype(np.float32)\n",
    "\n",
    "output = T.dot(shared_w, inputs_x)\n",
    "\n",
    "\n",
    "if 0:\n",
    "    # mse loss\n",
    "    loss = T.mean(T.sum((output-inputs_y)**2, axis=1))\n",
    "\n",
    "if 1:\n",
    "    # hinge loss\n",
    "    target2 = T.switch(inputs_y>0, inputs_y, -1)\n",
    "    margin = 1-target2* output\n",
    "    loss = T.mean(margin* (margin>0))\n",
    "\n",
    "\n",
    "grad = T.grad(loss, shared_w)\n",
    "\n",
    "f_loss = theano.function([], loss)\n",
    "f_grad = theano.function([], grad)\n",
    "\n",
    "print 'before opt:', f_loss()\n",
    "\n",
    "# non-theano functions that can be called by optimizer\n",
    "def eval_loss(x0):\n",
    "    shared_w.set_value(x0.astype(np.float32))\n",
    "    return f_loss().astype('float64')\n",
    "\n",
    "\n",
    "def eval_grad(x0):\n",
    "    shared_w.set_value(x0.astype(np.float32))\n",
    "    return np.array(f_grad()).flatten().astype('float64')\n",
    "\n",
    "\n",
    "w_opt = np.array([[3.0, -3.0]]).astype(np.float64)\n",
    "opt_result = scipy.optimize.fmin_l_bfgs_b(eval_loss, w_opt, fprime=eval_grad, maxfun=40)\n",
    "print 'after opt:', opt_result[1]"
   ]
  },
  {
   "cell_type": "code",
   "execution_count": null,
   "metadata": {
    "collapsed": false
   },
   "outputs": [],
   "source": []
  },
  {
   "cell_type": "code",
   "execution_count": null,
   "metadata": {
    "collapsed": true
   },
   "outputs": [],
   "source": []
  },
  {
   "cell_type": "code",
   "execution_count": null,
   "metadata": {
    "collapsed": true
   },
   "outputs": [],
   "source": []
  }
 ],
 "metadata": {
  "kernelspec": {
   "display_name": "Python 2",
   "language": "python",
   "name": "python2"
  },
  "language_info": {
   "codemirror_mode": {
    "name": "ipython",
    "version": 2
   },
   "file_extension": ".py",
   "mimetype": "text/x-python",
   "name": "python",
   "nbconvert_exporter": "python",
   "pygments_lexer": "ipython2",
   "version": "2.7.10"
  }
 },
 "nbformat": 4,
 "nbformat_minor": 0
}
